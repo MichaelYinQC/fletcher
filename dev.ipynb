{
 "cells": [
  {
   "cell_type": "code",
   "execution_count": 1,
   "metadata": {},
   "outputs": [],
   "source": [
    "import fletcher as fr\n",
    "import pandas as pd\n",
    "import pyarrow as pa\n",
    "import numpy as np"
   ]
  },
  {
   "cell_type": "code",
   "execution_count": 2,
   "metadata": {},
   "outputs": [
    {
     "data": {
      "text/plain": [
       "array(['qawef', 'Ézxcvzxcvzxcv', 'qawef', ..., 'Ézxcvzxcvzxcv', 'qawef',\n",
       "       'Ésdfasdfasdf'], dtype='<U13')"
      ]
     },
     "execution_count": 2,
     "metadata": {},
     "output_type": "execute_result"
    }
   ],
   "source": [
    "string_array = np.random.choice(['Ésdfasdfasdf', 'Ézxcvzxcvzxcv', 'qawef'], size=10000)\n",
    "string_array"
   ]
  },
  {
   "cell_type": "code",
   "execution_count": 3,
   "metadata": {},
   "outputs": [],
   "source": [
    "fr_cont_str = pd.Series(fr.FletcherContinuousArray(string_array))"
   ]
  },
  {
   "cell_type": "code",
   "execution_count": 4,
   "metadata": {},
   "outputs": [],
   "source": [
    "pd_str = pd.Series(string_array)"
   ]
  },
  {
   "cell_type": "code",
   "execution_count": 6,
   "metadata": {},
   "outputs": [
    {
     "data": {
      "text/plain": [
       "0       qa\n",
       "1       Éz\n",
       "2       qa\n",
       "3       qa\n",
       "4       És\n",
       "        ..\n",
       "9995    És\n",
       "9996    Éz\n",
       "9997    Éz\n",
       "9998    qa\n",
       "9999    És\n",
       "Length: 10000, dtype: fletcher_continuous[string]"
      ]
     },
     "execution_count": 6,
     "metadata": {},
     "output_type": "execute_result"
    }
   ],
   "source": [
    "fr_cont_str.text.slice(0, 2, 1)"
   ]
  },
  {
   "cell_type": "code",
   "execution_count": 7,
   "metadata": {},
   "outputs": [],
   "source": [
    "assert (pd_str.str.slice(0, 2, 1) == fr_cont_str.text.slice(0, 2, 1)).all()"
   ]
  },
  {
   "cell_type": "code",
   "execution_count": 8,
   "metadata": {},
   "outputs": [
    {
     "name": "stdout",
     "output_type": "stream",
     "text": [
      "2.09 ms ± 32.7 µs per loop (mean ± std. dev. of 7 runs, 100 loops each)\n"
     ]
    }
   ],
   "source": [
    "%%timeit\n",
    "pd_str.str.slice(0, 2, 1)"
   ]
  },
  {
   "cell_type": "code",
   "execution_count": 9,
   "metadata": {},
   "outputs": [
    {
     "name": "stdout",
     "output_type": "stream",
     "text": [
      "1.76 ms ± 24 µs per loop (mean ± std. dev. of 7 runs, 1000 loops each)\n"
     ]
    }
   ],
   "source": [
    "%%timeit\n",
    "fr_cont_str.text.slice(0, 2, 1)"
   ]
  },
  {
   "cell_type": "code",
   "execution_count": 10,
   "metadata": {},
   "outputs": [],
   "source": [
    "%load_ext line_profiler"
   ]
  },
  {
   "cell_type": "code",
   "execution_count": 11,
   "metadata": {},
   "outputs": [
    {
     "data": {
      "text/plain": [
       "Timer unit: 1e-06 s\n",
       "\n",
       "Total time: 0.00229 s\n",
       "File: /Users/marc_qco/repos/fletcher/fletcher/string_array.py\n",
       "Function: slice at line 385\n",
       "\n",
       "Line #      Hits         Time  Per Hit   % Time  Line Contents\n",
       "==============================================================\n",
       "   385                                               def slice(self, start, end, step):\n",
       "   386         1         40.0     40.0      1.7          offsets, data = _extract_string_buffers(self.data)\n",
       "   387         2        283.0    141.5     12.4          return self._series_like(\n",
       "   388         1       1967.0   1967.0     85.9              finalize_string_array(_slice(offsets, data, start, end, step), pa.string())\n",
       "   389                                                   )"
      ]
     },
     "metadata": {},
     "output_type": "display_data"
    }
   ],
   "source": [
    "%lprun -f fr_cont_str.text.slice fr_cont_str.text.slice(0, 2, 1)"
   ]
  },
  {
   "cell_type": "code",
   "execution_count": null,
   "metadata": {},
   "outputs": [],
   "source": []
  }
 ],
 "metadata": {
  "kernelspec": {
   "display_name": "Python 3",
   "language": "python",
   "name": "python3"
  },
  "language_info": {
   "codemirror_mode": {
    "name": "ipython",
    "version": 3
   },
   "file_extension": ".py",
   "mimetype": "text/x-python",
   "name": "python",
   "nbconvert_exporter": "python",
   "pygments_lexer": "ipython3",
   "version": "3.8.3"
  }
 },
 "nbformat": 4,
 "nbformat_minor": 4
}
